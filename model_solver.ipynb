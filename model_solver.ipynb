{
 "cells": [
  {
   "cell_type": "code",
   "execution_count": 13,
   "metadata": {},
   "outputs": [],
   "source": [
    "from model_solver import optimize_model, calc_model_output"
   ]
  },
  {
   "cell_type": "code",
   "execution_count": 14,
   "metadata": {},
   "outputs": [],
   "source": [
    "inputs = dict(\n",
    "    a=dict(min=0,max=10,val=3,locked=False),\n",
    "    b=dict(min=0,max=10,val=6,locked=False),\n",
    "    c=dict(min=0,max=10,val=3,locked=False),\n",
    ")\n",
    "\n",
    "outputs = dict(\n",
    "    x=dict(target=15, active=True),\n",
    "    y=dict(target=65, active=True),\n",
    "    z=dict(target=0, active=True),\n",
    ")"
   ]
  },
  {
   "cell_type": "code",
   "execution_count": 15,
   "metadata": {},
   "outputs": [
    {
     "name": "stdout",
     "output_type": "stream",
     "text": [
      "Solution:\n",
      "  Status=Optimal\n",
      "  Total cost=10.0\n",
      "\n",
      "Inputs:\n",
      "  Input a=8 (initial=3, locked=False, min=0, max=10)\n",
      "  Input b=8 (initial=6, locked=False, min=0, max=10)\n",
      "  Input c=3 (initial=3, locked=False, min=0, max=10)\n",
      "\n",
      "Outputs:\n",
      "  Output x=19 (target=15, active=True, delta=4, part cost=4)\n",
      "  Output y=64 (target=65, active=True, delta=-1, part cost=1)\n",
      "  Output z=5 (target=0, active=True, delta=5, part cost=5)\n"
     ]
    }
   ],
   "source": [
    "\n",
    "opti_result_dict = optimize_model(inputs=inputs, outputs=outputs, verbose=True)"
   ]
  },
  {
   "cell_type": "code",
   "execution_count": 17,
   "metadata": {},
   "outputs": [
    {
     "data": {
      "text/plain": [
       "{'a': 8, 'b': 8, 'c': 3}"
      ]
     },
     "execution_count": 17,
     "metadata": {},
     "output_type": "execute_result"
    }
   ],
   "source": [
    "opti_result_dict[\"inputs\"]"
   ]
  },
  {
   "cell_type": "code",
   "execution_count": null,
   "metadata": {},
   "outputs": [],
   "source": []
  },
  {
   "cell_type": "code",
   "execution_count": 16,
   "metadata": {},
   "outputs": [
    {
     "data": {
      "text/plain": [
       "{'x': 19, 'y': 64, 'z': 5}"
      ]
     },
     "execution_count": 16,
     "metadata": {},
     "output_type": "execute_result"
    }
   ],
   "source": [
    "calc_model_output(opti_result_dict[\"inputs\"])"
   ]
  },
  {
   "cell_type": "code",
   "execution_count": 18,
   "metadata": {},
   "outputs": [
    {
     "data": {
      "text/plain": [
       "{'inputs': {'a': 8, 'b': 8, 'c': 3},\n",
       " 'outputs': {'x': 19, 'y': 64, 'z': 5},\n",
       " 'cost': 10.0,\n",
       " 'status': 'Optimal'}"
      ]
     },
     "execution_count": 18,
     "metadata": {},
     "output_type": "execute_result"
    }
   ],
   "source": [
    "opti_result_dict"
   ]
  }
 ],
 "metadata": {
  "kernelspec": {
   "display_name": ".venv",
   "language": "python",
   "name": "python3"
  },
  "language_info": {
   "codemirror_mode": {
    "name": "ipython",
    "version": 3
   },
   "file_extension": ".py",
   "mimetype": "text/x-python",
   "name": "python",
   "nbconvert_exporter": "python",
   "pygments_lexer": "ipython3",
   "version": "3.12.7"
  }
 },
 "nbformat": 4,
 "nbformat_minor": 2
}
