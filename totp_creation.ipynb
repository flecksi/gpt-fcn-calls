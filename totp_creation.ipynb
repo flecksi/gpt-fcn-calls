{
 "cells": [
  {
   "cell_type": "code",
   "execution_count": 1,
   "metadata": {},
   "outputs": [],
   "source": [
    "import pyotp\n",
    "import qrcode"
   ]
  },
  {
   "cell_type": "markdown",
   "metadata": {},
   "source": [
    "# https://pypi.org/project/pyotp/"
   ]
  },
  {
   "cell_type": "code",
   "execution_count": null,
   "metadata": {},
   "outputs": [],
   "source": [
    "totp_secret_ascii_string_32_long = pyotp.random_base32()\n",
    "totp_name = \"Hansi\"\n",
    "totp_issuer = \"TOTP-Test-App\"\n",
    "\n",
    "totp_ascii32 = pyotp.TOTP(\n",
    "    s=totp_secret_ascii_string_32_long,\n",
    "    name=totp_name,\n",
    "    issuer=totp_issuer,\n",
    "    )\n",
    "\n",
    "print(f\"Secret = {totp_secret_ascii_string_32_long}\")"
   ]
  },
  {
   "cell_type": "code",
   "execution_count": null,
   "metadata": {},
   "outputs": [],
   "source": [
    "onetimepassword_string = totp_ascii32.now()\n",
    "print(f\"OTP (now) = {onetimepassword_string}\")"
   ]
  },
  {
   "cell_type": "code",
   "execution_count": null,
   "metadata": {},
   "outputs": [],
   "source": [
    "totp_ascii32.verify(onetimepassword_string)"
   ]
  },
  {
   "cell_type": "code",
   "execution_count": null,
   "metadata": {},
   "outputs": [],
   "source": [
    "totp_provisioning_uri = totp_ascii32.provisioning_uri()\n",
    "print(totp_provisioning_uri)"
   ]
  },
  {
   "cell_type": "markdown",
   "metadata": {},
   "source": [
    "# create QR-Code (to scan with a smartphone authenticator app)"
   ]
  },
  {
   "cell_type": "code",
   "execution_count": null,
   "metadata": {},
   "outputs": [],
   "source": [
    "qrcode.make(totp_provisioning_uri)"
   ]
  }
 ],
 "metadata": {
  "kernelspec": {
   "display_name": ".venv",
   "language": "python",
   "name": "python3"
  },
  "language_info": {
   "codemirror_mode": {
    "name": "ipython",
    "version": 3
   },
   "file_extension": ".py",
   "mimetype": "text/x-python",
   "name": "python",
   "nbconvert_exporter": "python",
   "pygments_lexer": "ipython3",
   "version": "3.12.7"
  }
 },
 "nbformat": 4,
 "nbformat_minor": 2
}
